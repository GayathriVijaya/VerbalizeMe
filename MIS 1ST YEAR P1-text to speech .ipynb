{
 "cells": [
  {
   "cell_type": "code",
   "execution_count": 3,
   "id": "208b4ffd",
   "metadata": {},
   "outputs": [
    {
     "name": "stdout",
     "output_type": "stream",
     "text": [
      "enter the text to convert into speechpora\n"
     ]
    }
   ],
   "source": [
    "import gtts\n",
    "import playsound\n",
    "text =input(\"enter the text to convert into speech\")\n",
    "sound=gtts.gTTS(text,lang=\"hi\")\n",
    "sound.save(\"welcome.mp3\")\n",
    "playsound.playsound(\"welcome.mp3\")\n",
    "\n"
   ]
  },
  {
   "cell_type": "code",
   "execution_count": null,
   "id": "5f4d14b6",
   "metadata": {},
   "outputs": [],
   "source": []
  },
  {
   "cell_type": "code",
   "execution_count": 9,
   "id": "c0c59f67",
   "metadata": {},
   "outputs": [],
   "source": [
    "from tkinter import*\n",
    "from gtts import gTTS\n",
    "from playsound import playsound\n",
    "\n",
    "\n",
    "root=Tk()\n",
    "root.geometry('450x400')\n",
    "root.resizable(0,0)\n",
    "root.config(bg = 'ghost white')\n",
    "root.title( 'TEXT_TO_SPEECH')\n",
    "\n",
    "Label(root,text='TEXT TO SPEECH',font = ' calligraphy 15 bold',bg= 'white').pack()\n",
    "Label(root,text='gayathri',font = ' calligraphy 15 bold',bg= 'ghost white').pack(side= BOTTOM)\n",
    "\n",
    "Label(root,text='ENTER THE TEXT',font = 'calligraphy 15 bold',bg= 'white').place(x=80, y=100)\n",
    "\n",
    "msg=StringVar()\n",
    "\n",
    "entry_field=Entry(root,textvariable=msg, width='50')\n",
    "entry_field.place(x=80,y=140)\n",
    "\n",
    "\n",
    "def text_to_speech():\n",
    "    message=entry_field.get()\n",
    "    speech=gTTS(text=message)\n",
    "    speech.save('mine.mp3')\n",
    "    playsound('mine.mp3')\n",
    "    \n",
    "def EXIT():\n",
    "    root.destroy()\n",
    "    \n",
    "def RESET():\n",
    "    msg.set(\"\")\n",
    "\n",
    "    \n",
    "Button(root,text='START', font=' calligraphy 15 bold',command = text_to_speech,bg = 'lavender',width=6 ).place(x=75, y=200)\n",
    "Button(root,text='EXIT', font=' calligraphy 15 bold',command = EXIT, bg = 'light blue',width=6 ).place(x=180, y=200)\n",
    "Button(root,text='RESET', font=' calligraphy 15 bold',command = RESET , bg= 'purple',width=6 ).place(x=300, y=200)\n",
    "\n",
    "root.mainloop()\n",
    "\n",
    "\n",
    "\n"
   ]
  },
  {
   "cell_type": "code",
   "execution_count": null,
   "id": "0e7fc160",
   "metadata": {},
   "outputs": [],
   "source": []
  },
  {
   "cell_type": "code",
   "execution_count": null,
   "id": "9e8f3e1e",
   "metadata": {},
   "outputs": [],
   "source": []
  }
 ],
 "metadata": {
  "kernelspec": {
   "display_name": "Python 3 (ipykernel)",
   "language": "python",
   "name": "python3"
  },
  "language_info": {
   "codemirror_mode": {
    "name": "ipython",
    "version": 3
   },
   "file_extension": ".py",
   "mimetype": "text/x-python",
   "name": "python",
   "nbconvert_exporter": "python",
   "pygments_lexer": "ipython3",
   "version": "3.9.12"
  }
 },
 "nbformat": 4,
 "nbformat_minor": 5
}
